{
 "cells": [
  {
   "cell_type": "code",
   "execution_count": 1,
   "id": "4568ed44",
   "metadata": {},
   "outputs": [
    {
     "name": "stdout",
     "output_type": "stream",
     "text": [
      "\u001b[31mERROR: pip's dependency resolver does not currently take into account all the packages that are installed. This behaviour is the source of the following dependency conflicts.\n",
      "grpcio-tools 1.49.1 requires protobuf<5.0dev,>=4.21.3, but you have protobuf 3.20.3 which is incompatible.\n",
      "tensorflow 2.11.0 requires protobuf<3.20,>=3.9.2, but you have protobuf 3.20.3 which is incompatible.\n",
      "torchaudio 0.13.0 requires torch==1.13.0, but you have torch 2.2.1 which is incompatible.\n",
      "yolov5 7.0.13 requires ultralytics>=8.0.100, but you have ultralytics 8.0.43 which is incompatible.\u001b[0m\u001b[31m\n",
      "\u001b[0mNote: you may need to restart the kernel to use updated packages.\n"
     ]
    }
   ],
   "source": [
    "%pip install -q \"torch>=2.1\" \"torchvision>=0.16\" \"ultralytics==8.0.43\" onnx --extra-index-url https://download.pytorch.org/whl/cpu"
   ]
  },
  {
   "cell_type": "code",
   "execution_count": 1,
   "id": "4b31318f",
   "metadata": {},
   "outputs": [],
   "source": [
    "from ultralytics import YOLO\n",
    "from pathlib import Path"
   ]
  },
  {
   "cell_type": "code",
   "execution_count": 6,
   "id": "fee24a7a",
   "metadata": {},
   "outputs": [],
   "source": [
    "model = YOLO(\"models/yolov8n.pt\")"
   ]
  },
  {
   "cell_type": "code",
   "execution_count": 7,
   "id": "844ea9c6",
   "metadata": {},
   "outputs": [],
   "source": [
    "models_dir = Path(\"./models\")"
   ]
  },
  {
   "cell_type": "code",
   "execution_count": 8,
   "id": "f83b4a70",
   "metadata": {},
   "outputs": [
    {
     "name": "stderr",
     "output_type": "stream",
     "text": [
      "Ultralytics YOLOv8.0.43 🚀 Python-3.10.10 torch-2.2.1 CPU\n",
      "YOLOv8n summary (fused): 168 layers, 3151904 parameters, 0 gradients, 8.7 GFLOPs\n",
      "\n",
      "\u001b[34m\u001b[1mPyTorch:\u001b[0m starting from models/yolov8n.pt with input shape (1, 3, 640, 640) BCHW and output shape(s) (1, 84, 8400) (6.2 MB)\n",
      "\n",
      "\u001b[34m\u001b[1mONNX:\u001b[0m starting export with onnx 1.15.0...\n",
      "\u001b[34m\u001b[1mONNX:\u001b[0m export success ✅ 1.3s, saved as models/yolov8n.onnx (12.1 MB)\n",
      "\n",
      "\u001b[34m\u001b[1mOpenVINO:\u001b[0m starting export with openvino 2023.3.0-13775-ceeafaf64f3-releases/2023/3...\n",
      "\u001b[34m\u001b[1mOpenVINO:\u001b[0m export success ✅ 0.3s, saved as models/yolov8n_openvino_model/ (12.3 MB)\n",
      "\n",
      "Export complete (1.9s)\n",
      "Results saved to \u001b[1m/Users/evlampev/Documents/invian/Object-tracking/models\u001b[0m\n",
      "Predict:         yolo predict task=detect model=models/yolov8n_openvino_model imgsz=640 \n",
      "Validate:        yolo val task=detect model=models/yolov8n_openvino_model imgsz=640 data=coco.yaml \n",
      "Visualize:       https://netron.app\n"
     ]
    },
    {
     "data": {
      "text/plain": [
       "'models/yolov8n_openvino_model'"
      ]
     },
     "execution_count": 8,
     "metadata": {},
     "output_type": "execute_result"
    }
   ],
   "source": [
    "model.export(format=\"openvino\", dynamic=True, half=False)"
   ]
  },
  {
   "cell_type": "code",
   "execution_count": null,
   "id": "ba2c44f1",
   "metadata": {},
   "outputs": [],
   "source": []
  }
 ],
 "metadata": {
  "kernelspec": {
   "display_name": "Python 3 (ipykernel)",
   "language": "python",
   "name": "python3"
  },
  "language_info": {
   "codemirror_mode": {
    "name": "ipython",
    "version": 3
   },
   "file_extension": ".py",
   "mimetype": "text/x-python",
   "name": "python",
   "nbconvert_exporter": "python",
   "pygments_lexer": "ipython3",
   "version": "3.10.10"
  }
 },
 "nbformat": 4,
 "nbformat_minor": 5
}
