{
 "cells": [
  {
   "cell_type": "code",
   "execution_count": 1,
   "id": "4568ed44",
   "metadata": {},
   "outputs": [
    {
     "name": "stdout",
     "output_type": "stream",
     "text": [
      "\u001b[31mERROR: pip's dependency resolver does not currently take into account all the packages that are installed. This behaviour is the source of the following dependency conflicts.\n",
      "grpcio-tools 1.49.1 requires protobuf<5.0dev,>=4.21.3, but you have protobuf 3.20.3 which is incompatible.\n",
      "tensorflow 2.11.0 requires protobuf<3.20,>=3.9.2, but you have protobuf 3.20.3 which is incompatible.\n",
      "torchaudio 0.13.0 requires torch==1.13.0, but you have torch 2.2.1 which is incompatible.\n",
      "yolov5 7.0.13 requires ultralytics>=8.0.100, but you have ultralytics 8.0.43 which is incompatible.\u001b[0m\u001b[31m\n",
      "\u001b[0mNote: you may need to restart the kernel to use updated packages.\n"
     ]
    }
   ],
   "source": [
    "%pip install -q \"torch>=2.1\" \"torchvision>=0.16\" \"ultralytics==8.0.43\" onnx --extra-index-url https://download.pytorch.org/whl/cpu"
   ]
  },
  {
   "cell_type": "code",
   "execution_count": 1,
   "id": "4b31318f",
   "metadata": {},
   "outputs": [],
   "source": [
    "from ultralytics import YOLO\n",
    "from pathlib import Path"
   ]
  },
  {
   "cell_type": "code",
   "execution_count": 18,
   "id": "07c27a31",
   "metadata": {},
   "outputs": [],
   "source": [
    "DET_MODEL_NAME = \"yolov8n\"\n",
    "models_dir = Path(\"./models\")\n",
    "det_model = YOLO(models_dir / f'{DET_MODEL_NAME}.pt')"
   ]
  },
  {
   "cell_type": "code",
   "execution_count": 19,
   "id": "e0307930",
   "metadata": {},
   "outputs": [],
   "source": [
    "# object detection model\n",
    "det_model_path = models_dir / f\"{DET_MODEL_NAME}_openvino_model/{DET_MODEL_NAME}.xml\"\n",
    "if not det_model_path.exists():\n",
    "    det_model.export(format=\"openvino\", dynamic=True, half=False)"
   ]
  },
  {
   "cell_type": "code",
   "execution_count": 20,
   "id": "9bfbac99",
   "metadata": {},
   "outputs": [
    {
     "data": {
      "application/vnd.jupyter.widget-view+json": {
       "model_id": "853775871ec54aca9d80dca4e9b7da53",
       "version_major": 2,
       "version_minor": 0
      },
      "text/plain": [
       "Dropdown(description='Device:', index=1, options=('CPU', 'AUTO'), value='AUTO')"
      ]
     },
     "execution_count": 20,
     "metadata": {},
     "output_type": "execute_result"
    }
   ],
   "source": [
    "import ipywidgets as widgets\n",
    "import openvino as ov\n",
    "\n",
    "core = ov.Core()\n",
    "\n",
    "device = widgets.Dropdown(\n",
    "    options=core.available_devices + [\"AUTO\"],\n",
    "    value='AUTO',\n",
    "    description='Device:',\n",
    "    disabled=False,\n",
    ")\n",
    "\n",
    "device"
   ]
  },
  {
   "cell_type": "code",
   "execution_count": 22,
   "id": "d16c691d",
   "metadata": {},
   "outputs": [],
   "source": [
    "core = ov.Core()\n",
    "\n",
    "det_ov_model = core.read_model(det_model_path)\n",
    "if device.value != \"CPU\":\n",
    "    det_ov_model.reshape({0: [1, 3, 640, 640]})\n",
    "ov_config = {}\n",
    "if \"GPU\" in device.value or (\"AUTO\" in device.value and \"GPU\" in core.available_devices):\n",
    "    ov_config = {\"GPU_DISABLE_WINOGRAD_CONVOLUTION\": \"YES\"}\n",
    "det_compiled_model = core.compile_model(det_ov_model, device.value, ov_config)"
   ]
  },
  {
   "cell_type": "code",
   "execution_count": null,
   "id": "5666e006",
   "metadata": {},
   "outputs": [],
   "source": []
  }
 ],
 "metadata": {
  "kernelspec": {
   "display_name": "Python 3 (ipykernel)",
   "language": "python",
   "name": "python3"
  },
  "language_info": {
   "codemirror_mode": {
    "name": "ipython",
    "version": 3
   },
   "file_extension": ".py",
   "mimetype": "text/x-python",
   "name": "python",
   "nbconvert_exporter": "python",
   "pygments_lexer": "ipython3",
   "version": "3.10.10"
  }
 },
 "nbformat": 4,
 "nbformat_minor": 5
}
